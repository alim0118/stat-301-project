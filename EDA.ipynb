{
 "cells": [
  {
   "cell_type": "markdown",
   "id": "aa93bdbb-b2e6-4079-ace9-d36c0d9dbd20",
   "metadata": {},
   "source": [
    "# Case Study"
   ]
  },
  {
   "cell_type": "markdown",
   "id": "cddf7a82-86c3-4228-963e-68e395f830e9",
   "metadata": {},
   "source": [
    "## Data:"
   ]
  },
  {
   "cell_type": "markdown",
   "id": "7b85bfb4-8cfa-414a-a0c8-10f1c5217490",
   "metadata": {},
   "source": [
    "The data is about GitHub projects with more than 167 stars from other users, indicating the popularity of a repository. It consists of 215029 rows corresponding to the top repositories and 24 attributes such as the name and description, number of forks, watching number, and number of stars. The data was collected using the GitHub Search API, searching for repositories with star counts falling within a specific range. \n",
    "\n",
    "The features include:"
   ]
  },
  {
   "cell_type": "markdown",
   "id": "811d9634-f486-4c27-85cf-b52a853ab2e6",
   "metadata": {},
   "source": [
    "1. `Name`: GitHub repository name (chr)\n",
    "2. `Description`: Short text description on purpose or focus of repository (chr)\n",
    "3. `URL`: Unique URL to GitHub repository (chr)\n",
    "4. `Created At`: Date and time repository was created on GitHub, in ISO 8601 format (chr)\n",
    "5. `Updated At`: Date and time of repository's most recent update, in ISO 8601 format (chr)\n",
    "6. `Homepage`: URL to homepage associated with repository (chr)\n",
    "7. `Size`: Size of repository in bytes (int)\n",
    "8. `Stars`: Number of stars repository received from other GitHub users (int)\n",
    "9. `Forks`: Number of forks repository has from other GitHub users (int)\n",
    "10. `Issues`: Total number of open issues (int)\n",
    "11. `Watchers`: Total number of repository \"watchers\" (int)\n",
    "12. `Language`: Primary programming language of repository (chr)\n",
    "13. `License`: Information about software license from a license identifier (chr)\n",
    "14. `Topics`: List of tags associated with repository (chr)\n",
    "15. `Has Issues`: Boolean value indicating whether repository has an issue tracker enabled (chr)\n",
    "16. `Has Projects`: Boolean value indicating whether repository uses GitHub Projects tool (chr)\n",
    "17. `Has Downloads`: Boolean value indicating whether repository has downloadable files for users (chr)\n",
    "18. `Has Wiki`: Boolean value indicating whether repository has an associated Wiki page (chr)\n",
    "19. `Has Pages`: Boolean value indicating whether repository has GitHub Pages enabled (chr)\n",
    "20. `Has Discussions`: Boolean value indicating whether repository has GitHub Discussions enabled (chr)\n",
    "21. `Is Fork`: Boolean value indicating whether repository is a fork of another repository (chr)\n",
    "22. `Is Archived`: Boolean value indicating whether repository is archived (chr)\n",
    "23. `Is Template`: Boolean value indicating whether repository has a template (chr)\n",
    "24. `Default Branch`: Name of default branch (chr)"
   ]
  },
  {
   "cell_type": "markdown",
   "id": "28f3514a-0567-4205-bc3b-03705cedaa78",
   "metadata": {},
   "source": [
    "## Question"
   ]
  },
  {
   "cell_type": "markdown",
   "id": "3d5992a6-1f66-4d70-9b59-4f43a58c7c1c",
   "metadata": {},
   "source": [
    "**Question**: Can we predict the number of stars a repository receives, indicating its popularity among other GitHub users, from the number of forks, number of watchers, and whether the repository uses the GitHub Projects tool? Furthermore, does the usage of GitHub Projects significantly affect the repository's popularity?\n",
    "\n",
    "This question focuses on predicting the number of stars (popularity) of a GitHub repository, which corresponds to the response variable `Stars`. The explanatory variables include the number of times the repository has been forked by other users, `Forks`, the number of users monitoring the repository for activity updates or changes, `Watchers`, and a binary indicator denoting whether the repository uses the GitHub Projects tool for task management, `Has Projects`. Through this analysis, we can explore whether popularity varies based on whether the repository uses GitHub projects.   "
   ]
  },
  {
   "cell_type": "code",
   "execution_count": null,
   "id": "70cfa08b-5ff9-4248-ba33-ffd5bc7ed8e0",
   "metadata": {},
   "outputs": [],
   "source": []
  }
 ],
 "metadata": {
  "kernelspec": {
   "display_name": "R",
   "language": "R",
   "name": "ir"
  },
  "language_info": {
   "codemirror_mode": "r",
   "file_extension": ".r",
   "mimetype": "text/x-r-source",
   "name": "R",
   "pygments_lexer": "r",
   "version": "4.2.3"
  }
 },
 "nbformat": 4,
 "nbformat_minor": 5
}
