{
 "cells": [
  {
   "cell_type": "markdown",
   "id": "aa93bdbb-b2e6-4079-ace9-d36c0d9dbd20",
   "metadata": {},
   "source": [
    "# Case Study"
   ]
  },
  {
   "cell_type": "markdown",
   "id": "cddf7a82-86c3-4228-963e-68e395f830e9",
   "metadata": {},
   "source": [
    "## Data:"
   ]
  },
  {
   "cell_type": "markdown",
   "id": "7b85bfb4-8cfa-414a-a0c8-10f1c5217490",
   "metadata": {},
   "source": [
    "The data is about GitHub projects with more than 167 stars from other users, indicating the popularity of a repository. It consists of 215029 rows corresponding to the top repositories and 24 attributes such as the name and description, number of forks, watching number, and number of stars. The data was collected using the GitHub Search API, searching for repositories with star counts falling within a specific range. \n",
    "\n",
    "The features include:"
   ]
  },
  {
   "cell_type": "markdown",
   "id": "811d9634-f486-4c27-85cf-b52a853ab2e6",
   "metadata": {},
   "source": [
    "1. `Name`: GitHub repository name (chr)\n",
    "2. `Description`: Short text description on purpose or focus of repository (chr)\n",
    "3. `URL`: Unique URL to GitHub repository (chr)\n",
    "4. `Created At`: Date and time repository was created on GitHub, in ISO 8601 format (chr)\n",
    "5. `Updated At`: Date and time of repository's most recent update, in ISO 8601 format (chr)\n",
    "6. `Homepage`: URL to homepage associated with repository (chr)\n",
    "7. `Size`: Size of repository in bytes (int)\n",
    "8. `Stars`: Number of stars repository received from other GitHub users (int)\n",
    "9. `Forks`: Number of forks repository has from other GitHub users (int)\n",
    "10. `Issues`: Total number of open issues (int)\n",
    "11. `Watchers`: Total number of repository \"watchers\" (int)\n",
    "12. `Language`: Primary programming language of repository (chr)\n",
    "13. `License`: Information about software license from a license identifier (chr)\n",
    "14. `Topics`: List of tags associated with repository (chr)\n",
    "15. `Has Issues`: Boolean value indicating whether repository has an issue tracker enabled (chr)\n",
    "16. `Has Projects`: Boolean value indicating whether repository uses GitHub Projects tool (chr)\n",
    "17. `Has Downloads`: Boolean value indicating whether repository has downloadable files for users (chr)\n",
    "18. `Has Wiki`: Boolean value indicating whether repository has an associated Wiki page (chr)\n",
    "19. `Has Pages`: Boolean value indicating whether repository has GitHub Pages enabled (chr)\n",
    "20. `Has Discussions`: Boolean value indicating whether repository has GitHub Discussions enabled (chr)\n",
    "21. `Is Fork`: Boolean value indicating whether repository is a fork of another repository (chr)\n",
    "22. `Is Archived`: Boolean value indicating whether repository is archived (chr)\n",
    "23. `Is Template`: Boolean value indicating whether repository has a template (chr)\n",
    "24. `Default Branch`: Name of default branch (chr)"
   ]
  },
  {
   "cell_type": "markdown",
   "id": "28f3514a-0567-4205-bc3b-03705cedaa78",
   "metadata": {},
   "source": [
    "## Question"
   ]
  },
  {
   "cell_type": "markdown",
   "id": "3d5992a6-1f66-4d70-9b59-4f43a58c7c1c",
   "metadata": {},
   "source": [
    "**Question**: Can we predict the number of stars a repository receives, indicating its popularity among other GitHub users, from the number of forks, number of watchers, and whether the repository uses the GitHub Projects tool? Furthermore, does the usage of GitHub Projects significantly affect the repository's popularity?\n",
    "\n",
    "This question focuses on predicting the number of stars (popularity) of a GitHub repository, which corresponds to the response variable `Stars`. The explanatory variables include the number of times the repository has been forked by other users, `Forks`, the number of users monitoring the repository for activity updates or changes, `Watchers`, and a binary indicator denoting whether the repository uses the GitHub Projects tool for task management, `Has Projects`. Through this analysis, we can explore whether popularity varies based on whether the repository uses GitHub projects.   "
   ]
  },
  {
   "cell_type": "markdown",
   "id": "d1649ddf-8991-4ad9-a203-ba56e677ee94",
   "metadata": {},
   "source": [
    "## EDA and Visualization"
   ]
  },
  {
   "cell_type": "code",
   "execution_count": 1,
   "id": "3607bf05-fa85-4725-812d-f27c53b72459",
   "metadata": {
    "tags": []
   },
   "outputs": [
    {
     "name": "stderr",
     "output_type": "stream",
     "text": [
      "── \u001b[1mAttaching core tidyverse packages\u001b[22m ──────────────────────── tidyverse 2.0.0 ──\n",
      "\u001b[32m✔\u001b[39m \u001b[34mdplyr    \u001b[39m 1.1.4     \u001b[32m✔\u001b[39m \u001b[34mreadr    \u001b[39m 2.1.4\n",
      "\u001b[32m✔\u001b[39m \u001b[34mforcats  \u001b[39m 1.0.0     \u001b[32m✔\u001b[39m \u001b[34mstringr  \u001b[39m 1.5.1\n",
      "\u001b[32m✔\u001b[39m \u001b[34mggplot2  \u001b[39m 3.4.4     \u001b[32m✔\u001b[39m \u001b[34mtibble   \u001b[39m 3.2.1\n",
      "\u001b[32m✔\u001b[39m \u001b[34mlubridate\u001b[39m 1.9.3     \u001b[32m✔\u001b[39m \u001b[34mtidyr    \u001b[39m 1.3.0\n",
      "\u001b[32m✔\u001b[39m \u001b[34mpurrr    \u001b[39m 1.0.2     \n",
      "── \u001b[1mConflicts\u001b[22m ────────────────────────────────────────── tidyverse_conflicts() ──\n",
      "\u001b[31m✖\u001b[39m \u001b[34mdplyr\u001b[39m::\u001b[32mfilter()\u001b[39m masks \u001b[34mstats\u001b[39m::filter()\n",
      "\u001b[31m✖\u001b[39m \u001b[34mdplyr\u001b[39m::\u001b[32mlag()\u001b[39m    masks \u001b[34mstats\u001b[39m::lag()\n",
      "\u001b[36mℹ\u001b[39m Use the conflicted package (\u001b[3m\u001b[34m<http://conflicted.r-lib.org/>\u001b[39m\u001b[23m) to force all conflicts to become errors\n",
      "\n",
      "Attaching package: ‘cowplot’\n",
      "\n",
      "\n",
      "The following object is masked from ‘package:lubridate’:\n",
      "\n",
      "    stamp\n",
      "\n",
      "\n",
      "Loading required package: car\n",
      "\n",
      "Loading required package: carData\n",
      "\n",
      "\n",
      "Attaching package: ‘car’\n",
      "\n",
      "\n",
      "The following object is masked from ‘package:dplyr’:\n",
      "\n",
      "    recode\n",
      "\n",
      "\n",
      "The following object is masked from ‘package:purrr’:\n",
      "\n",
      "    some\n",
      "\n",
      "\n",
      "Loading required package: lmtest\n",
      "\n",
      "Loading required package: zoo\n",
      "\n",
      "\n",
      "Attaching package: ‘zoo’\n",
      "\n",
      "\n",
      "The following objects are masked from ‘package:base’:\n",
      "\n",
      "    as.Date, as.Date.numeric\n",
      "\n",
      "\n",
      "Loading required package: sandwich\n",
      "\n",
      "Loading required package: survival\n",
      "\n"
     ]
    }
   ],
   "source": [
    "# load libraries\n",
    "library(tidyverse)\n",
    "library(repr)\n",
    "library(infer)\n",
    "library(cowplot)\n",
    "library(broom)\n",
    "library(AER)"
   ]
  },
  {
   "cell_type": "code",
   "execution_count": 2,
   "id": "a98bf3f1-47e5-4265-87f3-164949c70a73",
   "metadata": {
    "tags": []
   },
   "outputs": [
    {
     "data": {
      "text/html": [
       "<table class=\"dataframe\">\n",
       "<caption>A data.frame: 6 × 24</caption>\n",
       "<thead>\n",
       "\t<tr><th></th><th scope=col>Name</th><th scope=col>Description</th><th scope=col>URL</th><th scope=col>Created.At</th><th scope=col>Updated.At</th><th scope=col>Homepage</th><th scope=col>Size</th><th scope=col>Stars</th><th scope=col>Forks</th><th scope=col>Issues</th><th scope=col>⋯</th><th scope=col>Has.Issues</th><th scope=col>Has.Projects</th><th scope=col>Has.Downloads</th><th scope=col>Has.Wiki</th><th scope=col>Has.Pages</th><th scope=col>Has.Discussions</th><th scope=col>Is.Fork</th><th scope=col>Is.Archived</th><th scope=col>Is.Template</th><th scope=col>Default.Branch</th></tr>\n",
       "\t<tr><th></th><th scope=col>&lt;chr&gt;</th><th scope=col>&lt;chr&gt;</th><th scope=col>&lt;chr&gt;</th><th scope=col>&lt;chr&gt;</th><th scope=col>&lt;chr&gt;</th><th scope=col>&lt;chr&gt;</th><th scope=col>&lt;int&gt;</th><th scope=col>&lt;int&gt;</th><th scope=col>&lt;int&gt;</th><th scope=col>&lt;int&gt;</th><th scope=col>⋯</th><th scope=col>&lt;chr&gt;</th><th scope=col>&lt;chr&gt;</th><th scope=col>&lt;chr&gt;</th><th scope=col>&lt;chr&gt;</th><th scope=col>&lt;chr&gt;</th><th scope=col>&lt;chr&gt;</th><th scope=col>&lt;chr&gt;</th><th scope=col>&lt;chr&gt;</th><th scope=col>&lt;chr&gt;</th><th scope=col>&lt;chr&gt;</th></tr>\n",
       "</thead>\n",
       "<tbody>\n",
       "\t<tr><th scope=row>1</th><td>freeCodeCamp               </td><td>freeCodeCamp.org's open-source codebase and curriculum. Learn to code for free.         </td><td>https://github.com/freeCodeCamp/freeCodeCamp             </td><td>2014-12-24T17:49:19Z</td><td>2023-09-21T11:32:33Z</td><td>http://contribute.freecodecamp.org/                      </td><td>387451</td><td>374074</td><td>33599</td><td>  248</td><td>⋯</td><td>True </td><td>True </td><td>True</td><td>False</td><td>True </td><td>False</td><td>False</td><td>False</td><td>False</td><td>main  </td></tr>\n",
       "\t<tr><th scope=row>2</th><td>free-programming-books     </td><td>:books: Freely available programming books                                              </td><td>https://github.com/EbookFoundation/free-programming-books</td><td>2013-10-11T06:50:37Z</td><td>2023-09-21T11:09:25Z</td><td>https://ebookfoundation.github.io/free-programming-books/</td><td> 17087</td><td>298393</td><td>57194</td><td>   46</td><td>⋯</td><td>True </td><td>False</td><td>True</td><td>False</td><td>True </td><td>False</td><td>False</td><td>False</td><td>False</td><td>main  </td></tr>\n",
       "\t<tr><th scope=row>3</th><td>awesome                    </td><td>😎 Awesome lists about all kinds of interesting topics                                  </td><td>https://github.com/sindresorhus/awesome                  </td><td>2014-07-11T13:42:37Z</td><td>2023-09-21T11:18:22Z</td><td>                                                         </td><td>  1441</td><td>269997</td><td>26485</td><td>   61</td><td>⋯</td><td>True </td><td>False</td><td>True</td><td>False</td><td>True </td><td>False</td><td>False</td><td>False</td><td>False</td><td>main  </td></tr>\n",
       "\t<tr><th scope=row>4</th><td>996.ICU                    </td><td>Repo for counting stars and contributing. Press F to pay respect to glorious developers.</td><td>https://github.com/996icu/996.ICU                        </td><td>2019-03-26T07:31:14Z</td><td>2023-09-21T08:09:01Z</td><td>https://996.icu                                          </td><td>187799</td><td>267901</td><td>21497</td><td>16712</td><td>⋯</td><td>False</td><td>False</td><td>True</td><td>False</td><td>False</td><td>False</td><td>False</td><td>True </td><td>False</td><td>master</td></tr>\n",
       "\t<tr><th scope=row>5</th><td>coding-interview-university</td><td>A complete computer science study plan to become a software engineer.                   </td><td>https://github.com/jwasham/coding-interview-university   </td><td>2016-06-06T02:34:12Z</td><td>2023-09-21T10:54:48Z</td><td>                                                         </td><td> 20998</td><td>265161</td><td>69434</td><td>   56</td><td>⋯</td><td>True </td><td>False</td><td>True</td><td>False</td><td>False</td><td>False</td><td>False</td><td>False</td><td>False</td><td>main  </td></tr>\n",
       "\t<tr><th scope=row>6</th><td>public-apis                </td><td>A collective list of free APIs                                                          </td><td>https://github.com/public-apis/public-apis               </td><td>2016-03-20T23:49:42Z</td><td>2023-09-21T11:22:06Z</td><td>http://public-apis.org                                   </td><td>  5088</td><td>256615</td><td>29254</td><td>  191</td><td>⋯</td><td>True </td><td>False</td><td>True</td><td>False</td><td>False</td><td>False</td><td>False</td><td>False</td><td>False</td><td>master</td></tr>\n",
       "</tbody>\n",
       "</table>\n"
      ],
      "text/latex": [
       "A data.frame: 6 × 24\n",
       "\\begin{tabular}{r|lllllllllllllllllllll}\n",
       "  & Name & Description & URL & Created.At & Updated.At & Homepage & Size & Stars & Forks & Issues & ⋯ & Has.Issues & Has.Projects & Has.Downloads & Has.Wiki & Has.Pages & Has.Discussions & Is.Fork & Is.Archived & Is.Template & Default.Branch\\\\\n",
       "  & <chr> & <chr> & <chr> & <chr> & <chr> & <chr> & <int> & <int> & <int> & <int> & ⋯ & <chr> & <chr> & <chr> & <chr> & <chr> & <chr> & <chr> & <chr> & <chr> & <chr>\\\\\n",
       "\\hline\n",
       "\t1 & freeCodeCamp                & freeCodeCamp.org's open-source codebase and curriculum. Learn to code for free.          & https://github.com/freeCodeCamp/freeCodeCamp              & 2014-12-24T17:49:19Z & 2023-09-21T11:32:33Z & http://contribute.freecodecamp.org/                       & 387451 & 374074 & 33599 &   248 & ⋯ & True  & True  & True & False & True  & False & False & False & False & main  \\\\\n",
       "\t2 & free-programming-books      & :books: Freely available programming books                                               & https://github.com/EbookFoundation/free-programming-books & 2013-10-11T06:50:37Z & 2023-09-21T11:09:25Z & https://ebookfoundation.github.io/free-programming-books/ &  17087 & 298393 & 57194 &    46 & ⋯ & True  & False & True & False & True  & False & False & False & False & main  \\\\\n",
       "\t3 & awesome                     & 😎 Awesome lists about all kinds of interesting topics                                   & https://github.com/sindresorhus/awesome                   & 2014-07-11T13:42:37Z & 2023-09-21T11:18:22Z &                                                           &   1441 & 269997 & 26485 &    61 & ⋯ & True  & False & True & False & True  & False & False & False & False & main  \\\\\n",
       "\t4 & 996.ICU                     & Repo for counting stars and contributing. Press F to pay respect to glorious developers. & https://github.com/996icu/996.ICU                         & 2019-03-26T07:31:14Z & 2023-09-21T08:09:01Z & https://996.icu                                           & 187799 & 267901 & 21497 & 16712 & ⋯ & False & False & True & False & False & False & False & True  & False & master\\\\\n",
       "\t5 & coding-interview-university & A complete computer science study plan to become a software engineer.                    & https://github.com/jwasham/coding-interview-university    & 2016-06-06T02:34:12Z & 2023-09-21T10:54:48Z &                                                           &  20998 & 265161 & 69434 &    56 & ⋯ & True  & False & True & False & False & False & False & False & False & main  \\\\\n",
       "\t6 & public-apis                 & A collective list of free APIs                                                           & https://github.com/public-apis/public-apis                & 2016-03-20T23:49:42Z & 2023-09-21T11:22:06Z & http://public-apis.org                                    &   5088 & 256615 & 29254 &   191 & ⋯ & True  & False & True & False & False & False & False & False & False & master\\\\\n",
       "\\end{tabular}\n"
      ],
      "text/markdown": [
       "\n",
       "A data.frame: 6 × 24\n",
       "\n",
       "| <!--/--> | Name &lt;chr&gt; | Description &lt;chr&gt; | URL &lt;chr&gt; | Created.At &lt;chr&gt; | Updated.At &lt;chr&gt; | Homepage &lt;chr&gt; | Size &lt;int&gt; | Stars &lt;int&gt; | Forks &lt;int&gt; | Issues &lt;int&gt; | ⋯ ⋯ | Has.Issues &lt;chr&gt; | Has.Projects &lt;chr&gt; | Has.Downloads &lt;chr&gt; | Has.Wiki &lt;chr&gt; | Has.Pages &lt;chr&gt; | Has.Discussions &lt;chr&gt; | Is.Fork &lt;chr&gt; | Is.Archived &lt;chr&gt; | Is.Template &lt;chr&gt; | Default.Branch &lt;chr&gt; |\n",
       "|---|---|---|---|---|---|---|---|---|---|---|---|---|---|---|---|---|---|---|---|---|---|\n",
       "| 1 | freeCodeCamp                | freeCodeCamp.org's open-source codebase and curriculum. Learn to code for free.          | https://github.com/freeCodeCamp/freeCodeCamp              | 2014-12-24T17:49:19Z | 2023-09-21T11:32:33Z | http://contribute.freecodecamp.org/                       | 387451 | 374074 | 33599 |   248 | ⋯ | True  | True  | True | False | True  | False | False | False | False | main   |\n",
       "| 2 | free-programming-books      | :books: Freely available programming books                                               | https://github.com/EbookFoundation/free-programming-books | 2013-10-11T06:50:37Z | 2023-09-21T11:09:25Z | https://ebookfoundation.github.io/free-programming-books/ |  17087 | 298393 | 57194 |    46 | ⋯ | True  | False | True | False | True  | False | False | False | False | main   |\n",
       "| 3 | awesome                     | 😎 Awesome lists about all kinds of interesting topics                                   | https://github.com/sindresorhus/awesome                   | 2014-07-11T13:42:37Z | 2023-09-21T11:18:22Z | <!----> |   1441 | 269997 | 26485 |    61 | ⋯ | True  | False | True | False | True  | False | False | False | False | main   |\n",
       "| 4 | 996.ICU                     | Repo for counting stars and contributing. Press F to pay respect to glorious developers. | https://github.com/996icu/996.ICU                         | 2019-03-26T07:31:14Z | 2023-09-21T08:09:01Z | https://996.icu                                           | 187799 | 267901 | 21497 | 16712 | ⋯ | False | False | True | False | False | False | False | True  | False | master |\n",
       "| 5 | coding-interview-university | A complete computer science study plan to become a software engineer.                    | https://github.com/jwasham/coding-interview-university    | 2016-06-06T02:34:12Z | 2023-09-21T10:54:48Z | <!----> |  20998 | 265161 | 69434 |    56 | ⋯ | True  | False | True | False | False | False | False | False | False | main   |\n",
       "| 6 | public-apis                 | A collective list of free APIs                                                           | https://github.com/public-apis/public-apis                | 2016-03-20T23:49:42Z | 2023-09-21T11:22:06Z | http://public-apis.org                                    |   5088 | 256615 | 29254 |   191 | ⋯ | True  | False | True | False | False | False | False | False | False | master |\n",
       "\n"
      ],
      "text/plain": [
       "  Name                       \n",
       "1 freeCodeCamp               \n",
       "2 free-programming-books     \n",
       "3 awesome                    \n",
       "4 996.ICU                    \n",
       "5 coding-interview-university\n",
       "6 public-apis                \n",
       "  Description                                                                             \n",
       "1 freeCodeCamp.org's open-source codebase and curriculum. Learn to code for free.         \n",
       "2 :books: Freely available programming books                                              \n",
       "3 😎 Awesome lists about all kinds of interesting topics                                  \n",
       "4 Repo for counting stars and contributing. Press F to pay respect to glorious developers.\n",
       "5 A complete computer science study plan to become a software engineer.                   \n",
       "6 A collective list of free APIs                                                          \n",
       "  URL                                                      \n",
       "1 https://github.com/freeCodeCamp/freeCodeCamp             \n",
       "2 https://github.com/EbookFoundation/free-programming-books\n",
       "3 https://github.com/sindresorhus/awesome                  \n",
       "4 https://github.com/996icu/996.ICU                        \n",
       "5 https://github.com/jwasham/coding-interview-university   \n",
       "6 https://github.com/public-apis/public-apis               \n",
       "  Created.At           Updated.At          \n",
       "1 2014-12-24T17:49:19Z 2023-09-21T11:32:33Z\n",
       "2 2013-10-11T06:50:37Z 2023-09-21T11:09:25Z\n",
       "3 2014-07-11T13:42:37Z 2023-09-21T11:18:22Z\n",
       "4 2019-03-26T07:31:14Z 2023-09-21T08:09:01Z\n",
       "5 2016-06-06T02:34:12Z 2023-09-21T10:54:48Z\n",
       "6 2016-03-20T23:49:42Z 2023-09-21T11:22:06Z\n",
       "  Homepage                                                  Size   Stars  Forks\n",
       "1 http://contribute.freecodecamp.org/                       387451 374074 33599\n",
       "2 https://ebookfoundation.github.io/free-programming-books/  17087 298393 57194\n",
       "3                                                             1441 269997 26485\n",
       "4 https://996.icu                                           187799 267901 21497\n",
       "5                                                            20998 265161 69434\n",
       "6 http://public-apis.org                                      5088 256615 29254\n",
       "  Issues ⋯ Has.Issues Has.Projects Has.Downloads Has.Wiki Has.Pages\n",
       "1   248  ⋯ True       True         True          False    True     \n",
       "2    46  ⋯ True       False        True          False    True     \n",
       "3    61  ⋯ True       False        True          False    True     \n",
       "4 16712  ⋯ False      False        True          False    False    \n",
       "5    56  ⋯ True       False        True          False    False    \n",
       "6   191  ⋯ True       False        True          False    False    \n",
       "  Has.Discussions Is.Fork Is.Archived Is.Template Default.Branch\n",
       "1 False           False   False       False       main          \n",
       "2 False           False   False       False       main          \n",
       "3 False           False   False       False       main          \n",
       "4 False           False   True        False       master        \n",
       "5 False           False   False       False       main          \n",
       "6 False           False   False       False       master        "
      ]
     },
     "metadata": {},
     "output_type": "display_data"
    },
    {
     "data": {
      "text/html": [
       "215029"
      ],
      "text/latex": [
       "215029"
      ],
      "text/markdown": [
       "215029"
      ],
      "text/plain": [
       "[1] 215029"
      ]
     },
     "metadata": {},
     "output_type": "display_data"
    }
   ],
   "source": [
    "# read data\n",
    "repo_data <- read.csv(\"repositories.csv\", header=TRUE)\n",
    "head(repo_data)\n",
    "nrow(repo_data) # dataset size before wrangling: 215029"
   ]
  },
  {
   "cell_type": "code",
   "execution_count": 19,
   "id": "020c027d-cd3f-4292-bcb0-1e7a31836e31",
   "metadata": {
    "tags": []
   },
   "outputs": [
    {
     "name": "stderr",
     "output_type": "stream",
     "text": [
      "Warning message in cbind(parts$left, chars$ellip_h, parts$right, deparse.level = 0L):\n",
      "“number of rows of result is not a multiple of vector length (arg 2)”\n",
      "Warning message in cbind(parts$left, chars$ellip_h, parts$right, deparse.level = 0L):\n",
      "“number of rows of result is not a multiple of vector length (arg 2)”\n",
      "Warning message in cbind(parts$left, chars$ellip_h, parts$right, deparse.level = 0L):\n",
      "“number of rows of result is not a multiple of vector length (arg 2)”\n",
      "Warning message in cbind(parts$left, chars$ellip_h, parts$right, deparse.level = 0L):\n",
      "“number of rows of result is not a multiple of vector length (arg 2)”\n"
     ]
    },
    {
     "data": {
      "text/html": [
       "<table class=\"dataframe\">\n",
       "<caption>A data.frame: 0 × 24</caption>\n",
       "<thead>\n",
       "\t<tr><th scope=col>Name</th><th scope=col>Description</th><th scope=col>URL</th><th scope=col>Created.At</th><th scope=col>Updated.At</th><th scope=col>Homepage</th><th scope=col>Size</th><th scope=col>Stars</th><th scope=col>Forks</th><th scope=col>Issues</th><th scope=col>⋯</th><th scope=col>Has.Issues</th><th scope=col>Has.Projects</th><th scope=col>Has.Downloads</th><th scope=col>Has.Wiki</th><th scope=col>Has.Pages</th><th scope=col>Has.Discussions</th><th scope=col>Is.Fork</th><th scope=col>Is.Archived</th><th scope=col>Is.Template</th><th scope=col>Default.Branch</th></tr>\n",
       "\t<tr><th scope=col>&lt;chr&gt;</th><th scope=col>&lt;chr&gt;</th><th scope=col>&lt;chr&gt;</th><th scope=col>&lt;chr&gt;</th><th scope=col>&lt;chr&gt;</th><th scope=col>&lt;chr&gt;</th><th scope=col>&lt;int&gt;</th><th scope=col>&lt;int&gt;</th><th scope=col>&lt;int&gt;</th><th scope=col>&lt;int&gt;</th><th scope=col>⋯</th><th scope=col>&lt;chr&gt;</th><th scope=col>&lt;dbl&gt;</th><th scope=col>&lt;chr&gt;</th><th scope=col>&lt;chr&gt;</th><th scope=col>&lt;chr&gt;</th><th scope=col>&lt;chr&gt;</th><th scope=col>&lt;chr&gt;</th><th scope=col>&lt;chr&gt;</th><th scope=col>&lt;chr&gt;</th><th scope=col>&lt;chr&gt;</th></tr>\n",
       "</thead>\n",
       "<tbody>\n",
       "</tbody>\n",
       "</table>\n"
      ],
      "text/latex": [
       "A data.frame: 0 × 24\n",
       "\\begin{tabular}{lllllllllllllllllllll}\n",
       " Name & Description & URL & Created.At & Updated.At & Homepage & Size & Stars & Forks & Issues & ⋯ & Has.Issues & Has.Projects & Has.Downloads & Has.Wiki & Has.Pages & Has.Discussions & Is.Fork & Is.Archived & Is.Template & Default.Branch\\\\\n",
       " <chr> & <chr> & <chr> & <chr> & <chr> & <chr> & <int> & <int> & <int> & <int> & ⋯ & <chr> & <dbl> & <chr> & <chr> & <chr> & <chr> & <chr> & <chr> & <chr> & <chr>\\\\\n",
       "\\hline\n",
       "\\end{tabular}\n"
      ],
      "text/markdown": [
       "\n",
       "A data.frame: 0 × 24\n",
       "\n",
       "| Name &lt;chr&gt; | Description &lt;chr&gt; | URL &lt;chr&gt; | Created.At &lt;chr&gt; | Updated.At &lt;chr&gt; | Homepage &lt;chr&gt; | Size &lt;int&gt; | Stars &lt;int&gt; | Forks &lt;int&gt; | Issues &lt;int&gt; | ⋯ ⋯ | Has.Issues &lt;chr&gt; | Has.Projects &lt;dbl&gt; | Has.Downloads &lt;chr&gt; | Has.Wiki &lt;chr&gt; | Has.Pages &lt;chr&gt; | Has.Discussions &lt;chr&gt; | Is.Fork &lt;chr&gt; | Is.Archived &lt;chr&gt; | Is.Template &lt;chr&gt; | Default.Branch &lt;chr&gt; |\n",
       "|---|---|---|---|---|---|---|---|---|---|---|---|---|---|---|---|---|---|---|---|---|\n",
       "\n"
      ],
      "text/plain": [
       "     Name Description URL Created.At Updated.At Homepage Size Stars Forks\n",
       "     Issues ⋯ Has.Issues Has.Projects Has.Downloads Has.Wiki Has.Pages\n",
       "     Has.Discussions Is.Fork Is.Archived Is.Template Default.Branch"
      ]
     },
     "metadata": {},
     "output_type": "display_data"
    },
    {
     "data": {
      "text/html": [
       "0"
      ],
      "text/latex": [
       "0"
      ],
      "text/markdown": [
       "0"
      ],
      "text/plain": [
       "[1] 0"
      ]
     },
     "metadata": {},
     "output_type": "display_data"
    }
   ],
   "source": [
    "# clean data \n",
    "\n",
    "# remove entries with missing data \n",
    "repo_data <- na.omit(repo_data) # not removing blank values in Homepage \n",
    "head(repo_data)\n",
    "nrow(repo_data)\n"
   ]
  },
  {
   "cell_type": "code",
   "execution_count": 3,
   "id": "f1a79da4-80ed-45b8-a3e9-6293827da980",
   "metadata": {
    "tags": []
   },
   "outputs": [
    {
     "data": {
      "text/html": [
       "<style>\n",
       ".list-inline {list-style: none; margin:0; padding: 0}\n",
       ".list-inline>li {display: inline-block}\n",
       ".list-inline>li:not(:last-child)::after {content: \"\\00b7\"; padding: 0 .5ex}\n",
       "</style>\n",
       "<ol class=list-inline><li>1</li><li>0</li><li>0</li><li>0</li><li>0</li><li>0</li></ol>\n"
      ],
      "text/latex": [
       "\\begin{enumerate*}\n",
       "\\item 1\n",
       "\\item 0\n",
       "\\item 0\n",
       "\\item 0\n",
       "\\item 0\n",
       "\\item 0\n",
       "\\end{enumerate*}\n"
      ],
      "text/markdown": [
       "1. 1\n",
       "2. 0\n",
       "3. 0\n",
       "4. 0\n",
       "5. 0\n",
       "6. 0\n",
       "\n",
       "\n"
      ],
      "text/plain": [
       "[1] 1 0 0 0 0 0"
      ]
     },
     "metadata": {},
     "output_type": "display_data"
    }
   ],
   "source": [
    "# convert \"Has Projects\" variable as numeric (0: false, 1: true)\n",
    "repo_data <- repo_data |>\n",
    "    mutate(Has.Projects = ifelse(Has.Projects == \"False\", 0, 1)) \n",
    "head(repo_data$Has.Projects)"
   ]
  },
  {
   "cell_type": "code",
   "execution_count": null,
   "id": "75d6d10d-f2b0-45c1-b4a6-2c4dafd22898",
   "metadata": {},
   "outputs": [],
   "source": []
  }
 ],
 "metadata": {
  "kernelspec": {
   "display_name": "R",
   "language": "R",
   "name": "ir"
  },
  "language_info": {
   "codemirror_mode": "r",
   "file_extension": ".r",
   "mimetype": "text/x-r-source",
   "name": "R",
   "pygments_lexer": "r",
   "version": "4.2.3"
  }
 },
 "nbformat": 4,
 "nbformat_minor": 5
}
